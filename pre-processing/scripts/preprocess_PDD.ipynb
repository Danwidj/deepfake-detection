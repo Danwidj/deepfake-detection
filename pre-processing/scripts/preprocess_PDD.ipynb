{
 "cells": [
  {
   "cell_type": "code",
   "execution_count": 1,
   "metadata": {},
   "outputs": [],
   "source": [
    "import numpy as np\n",
    "import pandas as pd\n",
    "import os\n",
    "from sklearn.preprocessing import StandardScaler\n",
    "from skimage.metrics import structural_similarity as ssim\n",
    "import cv2\n",
    "from tqdm import tqdm\n",
    "import dlib\n",
    "from tqdm import tqdm\n",
    "from concurrent.futures import ThreadPoolExecutor, as_completed\n",
    "import math\n",
    "import os\n",
    "import threading\n",
    "import tensorflow as tf\n",
    "detector = dlib.get_frontal_face_detector()\n",
    "predictor = dlib.shape_predictor(\"shape_predictor_68_face_landmarks.dat\")\n",
    "PDD_PATH ='../PDD'"
   ]
  },
  {
   "cell_type": "markdown",
   "metadata": {},
   "source": [
    "# Helper Function"
   ]
  },
  {
   "cell_type": "code",
   "execution_count": 2,
   "metadata": {},
   "outputs": [],
   "source": [
    "def extract_video_info(video_path):\n",
    "    cap = cv2.VideoCapture(video_path)\n",
    "    total_frames = int(cap.get(cv2.CAP_PROP_FRAME_COUNT))\n",
    "    fps = cap.get(cv2.CAP_PROP_FPS)\n",
    "    duration = total_frames / fps\n",
    "    cap.release()\n",
    "    return total_frames, fps, duration\n"
   ]
  },
  {
   "cell_type": "code",
   "execution_count": 3,
   "metadata": {},
   "outputs": [],
   "source": [
    "def extract_10_frames(video_path, fps, start_time, end_time):\n",
    "    cap = cv2.VideoCapture(video_path)\n",
    "    all_frames = []\n",
    "    \n",
    "    # Calculate start and end frame numbers\n",
    "    start_frame = int(start_time * fps)\n",
    "    end_frame = int(end_time * fps)\n",
    "    \n",
    "    # Extract all frames in the time range\n",
    "    for frame_id in range(start_frame, end_frame):\n",
    "        cap.set(cv2.CAP_PROP_POS_FRAMES, frame_id)\n",
    "        ret, frame = cap.read()\n",
    "        if ret:\n",
    "            all_frames.append(frame)\n",
    "    \n",
    "    cap.release()\n",
    "    \n",
    "    # Calculate segment size (number of frames per segment)\n",
    "    total_frames = len(all_frames)\n",
    "    segment_size = total_frames // 5\n",
    "    \n",
    "    # Sample 2 frames from each segment\n",
    "    sampled_frames = []\n",
    "    for i in range(5):\n",
    "        segment_start = i * segment_size\n",
    "        segment_end = (i + 1) * segment_size\n",
    "        \n",
    "        # Get 2 frames from the middle of each segment\n",
    "        mid_point = (segment_start + segment_end) // 2\n",
    "        sampled_frames.append(all_frames[mid_point])\n",
    "        sampled_frames.append(all_frames[mid_point + 1])\n",
    "    \n",
    "    return sampled_frames"
   ]
  },
  {
   "cell_type": "markdown",
   "metadata": {},
   "source": [
    "# Flicker"
   ]
  },
  {
   "cell_type": "code",
   "execution_count": 4,
   "metadata": {},
   "outputs": [],
   "source": [
    "def detect_flicker(frames):\n",
    "\n",
    "    flow_magnitudes = []\n",
    "    prev_gray = cv2.cvtColor(frames[0], cv2.COLOR_BGR2GRAY)\n",
    "\n",
    "    for i in range(1, len(frames)):\n",
    "        next_gray = cv2.cvtColor(frames[i], cv2.COLOR_BGR2GRAY)\n",
    "\n",
    "        # Compute optical flow between prev and current\n",
    "        flow = cv2.calcOpticalFlowFarneback(prev_gray, next_gray, None,\n",
    "                                            pyr_scale=0.5, levels=3, winsize=15,\n",
    "                                            iterations=3, poly_n=5, poly_sigma=1.2, flags=0)\n",
    "        \n",
    "        magnitude, _ = cv2.cartToPolar(flow[..., 0], flow[..., 1])\n",
    "        flow_magnitudes.append(np.mean(magnitude))\n",
    "\n",
    "        prev_gray = next_gray\n",
    "    flow_magnitudes = StandardScaler().fit_transform(np.array(flow_magnitudes).reshape(-1, 1)).flatten().tolist()\n",
    "    return flow_magnitudes"
   ]
  },
  {
   "cell_type": "markdown",
   "metadata": {},
   "source": [
    "# Lip movement"
   ]
  },
  {
   "cell_type": "code",
   "execution_count": 5,
   "metadata": {},
   "outputs": [],
   "source": [
    "def get_lip_movement(frames):\n",
    "    \"\"\"\n",
    "    Calculates the variance of lip height movement from a list of frames.\n",
    "    - Assumes frames are in BGR format.\n",
    "    - Detects the largest face in each frame.\n",
    "    - Extracts top and bottom lip landmarks.\n",
    "    - Returns variance of lip height movement as a single float.\n",
    "    \"\"\"\n",
    "    movements = []\n",
    "\n",
    "    try:\n",
    "        for frame in frames:\n",
    "            try:\n",
    "                gray = cv2.cvtColor(frame, cv2.COLOR_BGR2GRAY)\n",
    "                faces = detector(gray)\n",
    "\n",
    "                if len(faces) == 0:\n",
    "                    continue\n",
    "\n",
    "                face = sorted(faces, key=lambda f: f.width() * f.height(), reverse=True)[0]\n",
    "                landmarks = predictor(gray, face)\n",
    "\n",
    "                lip_height = landmarks.part(66).y - landmarks.part(62).y\n",
    "                movements.append(lip_height)\n",
    "\n",
    "            except Exception as inner_e:\n",
    "                print(f\"Error processing frame: {inner_e}\")\n",
    "                continue\n",
    "\n",
    "        if len(movements) < 2:\n",
    "            return [0.0]\n",
    "        movements = StandardScaler().fit_transform(np.array(movements).reshape(-1, 1)).flatten().tolist()\n",
    "        result = float(np.mean(np.abs(np.diff(movements))))\n",
    "        return [result]\n",
    "\n",
    "    except Exception as e:\n",
    "        print(f\"Unexpected error in get_lip_movement: {e}\")\n",
    "        return [0.0]"
   ]
  },
  {
   "cell_type": "markdown",
   "metadata": {},
   "source": [
    "# Detect Blink"
   ]
  },
  {
   "cell_type": "code",
   "execution_count": 6,
   "metadata": {},
   "outputs": [],
   "source": [
    "def detect_blinks(frames):\n",
    "    \"\"\"\n",
    "    Detects the number of blinks from a list of frames.\n",
    "    Uses a simple eye-aspect-ratio (EAR) based difference between eye heights.\n",
    "    \"\"\"\n",
    "\n",
    "    blink_count = 0\n",
    "\n",
    "    for frame in frames:\n",
    "        try:\n",
    "            gray = cv2.cvtColor(frame, cv2.COLOR_BGR2GRAY)\n",
    "            faces = detector(gray)\n",
    "\n",
    "            for face in faces:\n",
    "                landmarks = predictor(gray, face)\n",
    "                left_eye = np.mean([landmarks.part(i).y for i in range(36, 42)])\n",
    "                right_eye = np.mean([landmarks.part(i).y for i in range(42, 48)])\n",
    "\n",
    "                eyes_aspect_ratio = abs(left_eye - right_eye)\n",
    "                if eyes_aspect_ratio < 1.2:  # Simple threshold — tune as needed\n",
    "                    blink_count += 1\n",
    "\n",
    "        except Exception as e:\n",
    "            print(f\"Error processing frame in blink detection: {e}\")\n",
    "            continue\n",
    "\n",
    "    return [blink_count]"
   ]
  },
  {
   "cell_type": "markdown",
   "metadata": {},
   "source": [
    "# Head Movement Anomalies"
   ]
  },
  {
   "cell_type": "code",
   "execution_count": 22,
   "metadata": {},
   "outputs": [],
   "source": [
    "from sklearn.preprocessing import StandardScaler\n",
    "import numpy as np\n",
    "\n",
    "def extract_head_pose(frames):\n",
    "    \"\"\"\n",
    "    Estimates vertical head movement using the distance between nose tip and chin\n",
    "    from a list of frames. Always returns a list of 10 normalised values.\n",
    "    If fewer than 10 values are available, pads with 0.0.\n",
    "    If more than 10, trims to 10.\n",
    "    \"\"\"\n",
    "    movements = []\n",
    "\n",
    "    for frame in frames:\n",
    "        try:\n",
    "            gray = cv2.cvtColor(frame, cv2.COLOR_BGR2GRAY)\n",
    "            faces = detector(gray)\n",
    "\n",
    "            if len(faces) == 0:\n",
    "                movements.append(0.0)\n",
    "                continue\n",
    "\n",
    "            face = sorted(faces, key=lambda f: f.width() * f.height(), reverse=True)[0]\n",
    "            landmarks = predictor(gray, face)\n",
    "\n",
    "            nose_tip = (landmarks.part(30).x, landmarks.part(30).y)\n",
    "            chin = (landmarks.part(8).x, landmarks.part(8).y)\n",
    "            distance = float(np.linalg.norm(np.array(nose_tip) - np.array(chin)))\n",
    "            movements.append(distance)\n",
    "\n",
    "        except Exception as e:\n",
    "            print(f\"Error processing frame in head pose extraction: {e}\")\n",
    "            movements.append(0.0)\n",
    "\n",
    "    # Scale only if we have non-zero values\n",
    "    if any(movements):\n",
    "        movements = StandardScaler().fit_transform(np.array(movements).reshape(-1, 1)).flatten().tolist()\n",
    "\n",
    "    # Adjust to exactly 10 elements\n",
    "    if len(movements) < 10:\n",
    "        movements += [0.0] * (10 - len(movements))\n",
    "    elif len(movements) > 10:\n",
    "        movements = movements[:10]\n",
    "\n",
    "    return movements"
   ]
  },
  {
   "cell_type": "markdown",
   "metadata": {},
   "source": [
    "# Pulse"
   ]
  },
  {
   "cell_type": "code",
   "execution_count": 8,
   "metadata": {},
   "outputs": [],
   "source": [
    "def detect_pulse(frames):\n",
    "    \"\"\"\n",
    "    Extracts pulse signal from a list of frames by averaging the green channel\n",
    "    in a fixed forehead region. Applies StandardScaler to the signal.\n",
    "    Returns a normalised NumPy array of pulse signal.\n",
    "    \"\"\"\n",
    "    pulse_signals = []\n",
    "\n",
    "    for frame in frames:\n",
    "        try:\n",
    "            roi = frame[100:150, 100:150, 1]  # green channel from forehead region\n",
    "            avg_green = np.mean(roi)\n",
    "            pulse_signals.append(avg_green)\n",
    "        except Exception as e:\n",
    "            print(f\"Error processing frame in pulse detection: {e}\")\n",
    "            continue\n",
    "\n",
    "    pulse_signals_signals = StandardScaler().fit_transform(np.array(pulse_signals).reshape(-1, 1)).flatten().tolist()\n",
    "\n",
    "    return pulse_signals"
   ]
  },
  {
   "cell_type": "markdown",
   "metadata": {},
   "source": [
    "# PSNR and SSIM"
   ]
  },
  {
   "cell_type": "code",
   "execution_count": 9,
   "metadata": {},
   "outputs": [],
   "source": [
    "def compute_ssim_psnr(frames):\n",
    "    psnr_vals = []\n",
    "    ssim_vals = []\n",
    "\n",
    "    def calculate_psnr(img1, img2):\n",
    "        mse = np.mean((img1.astype(np.float32) - img2.astype(np.float32)) ** 2)\n",
    "        if mse == 0:\n",
    "            return 100  # identical\n",
    "        PIXEL_MAX = 255.0\n",
    "        return 20 * math.log10(PIXEL_MAX / math.sqrt(mse))\n",
    "    \n",
    "    for i in range(len(frames) - 1):\n",
    "        img1 = cv2.cvtColor(frames[i], cv2.COLOR_BGR2GRAY)\n",
    "        img2 = cv2.cvtColor(frames[i + 1], cv2.COLOR_BGR2GRAY)\n",
    "\n",
    "        psnr_val = calculate_psnr(img1, img2)\n",
    "        ssim_val, _ = ssim(img1, img2, full=True)\n",
    "\n",
    "        psnr_vals.append(psnr_val)\n",
    "        ssim_vals.append(ssim_val)\n",
    "    \n",
    "    psnr_vals = StandardScaler().fit_transform(np.array(psnr_vals).reshape(-1, 1)).flatten().tolist()\n",
    "    ssim_vals = StandardScaler().fit_transform(np.array(ssim_vals).reshape(-1, 1)).flatten().tolist()\n",
    "\n",
    "    return psnr_vals, ssim_vals"
   ]
  },
  {
   "cell_type": "markdown",
   "metadata": {},
   "source": [
    "# Functions for multi thread"
   ]
  },
  {
   "cell_type": "code",
   "execution_count": 16,
   "metadata": {},
   "outputs": [],
   "source": [
    "def process_video(filename):\n",
    "    if not filename.lower().endswith('.mp4'):\n",
    "        return None\n",
    "\n",
    "    video_path = os.path.join(PDD_PATH, filename)\n",
    "\n",
    "    try:\n",
    "        tqdm.write(f\"Processing {filename} on thread {threading.current_thread().name}\")\n",
    "        total_frames, fps, duration = extract_video_info(video_path)\n",
    "        segment_timestamps = [(i * (duration / 5), (i + 1) * (duration / 5)) for i in range(5)]\n",
    "        feature_lengths = []\n",
    "        flicker_vals=[]\n",
    "        lip_var=[]\n",
    "        blink_feature=[]\n",
    "        head_movement=[]\n",
    "        pulse_vals=[]\n",
    "        psnr_vals=[]\n",
    "        ssim_vals=[]\n",
    "\n",
    "        for start_time, end_time in segment_timestamps:\n",
    "            frames = extract_10_frames(video_path, fps, start_time, end_time)\n",
    "\n",
    "            flicker_vals += detect_flicker(frames)\n",
    "            lip_var += get_lip_movement(frames)\n",
    "            blink_feature += detect_blinks(frames)\n",
    "            head_movement += extract_head_pose(frames)\n",
    "            pulse_vals += detect_pulse(frames)\n",
    "            psnr_val, ssim_val = compute_ssim_psnr(frames)\n",
    "            psnr_vals+=psnr_val\n",
    "            ssim_vals+=ssim_val\n",
    "\n",
    "        feature_lengths.append(len(flicker_vals))\n",
    "        feature_lengths.append(len(lip_var))\n",
    "        feature_lengths.append(len(blink_feature))\n",
    "        feature_lengths.append(len(head_movement))\n",
    "        feature_lengths.append(len(pulse_vals))\n",
    "        feature_lengths += [len(psnr_vals), len(ssim_vals)]\n",
    "        if int(filename[2:4]) <8:\n",
    "            label = 1\n",
    "        else:\n",
    "            label = 0\n",
    "        return {\n",
    "            'filename': filename,\n",
    "            'fake': label,\n",
    "            \"flicker\": flicker_vals,\n",
    "            \"lip_movement_variance\": lip_var,\n",
    "            \"blink\": blink_feature,\n",
    "            \"head_movement\": head_movement,\n",
    "            \"pulse\": pulse_vals,\n",
    "            \"psnr\": psnr_vals,\n",
    "            \"ssim\": ssim_vals,\n",
    "            'feature_lengths': feature_lengths\n",
    "        }\n",
    "\n",
    "    except Exception as e:\n",
    "        tqdm.write(f\"Error processing {filename}: {e}\")\n",
    "        return None"
   ]
  },
  {
   "cell_type": "code",
   "execution_count": 26,
   "metadata": {},
   "outputs": [
    {
     "name": "stdout",
     "output_type": "stream",
     "text": [
      "Processing b-08.mp4 on thread ThreadPoolExecutor-1_0\n"
     ]
    },
    {
     "name": "stderr",
     "output_type": "stream",
     "text": [
      "Processing videos:   3%|▎         | 1/30 [00:10<05:12, 10.79s/it]"
     ]
    },
    {
     "name": "stdout",
     "output_type": "stream",
     "text": [
      "Processing b-09.mp4 on thread ThreadPoolExecutor-1_0\n"
     ]
    },
    {
     "name": "stderr",
     "output_type": "stream",
     "text": [
      "Processing videos:   7%|▋         | 2/30 [00:23<05:38, 12.08s/it]"
     ]
    },
    {
     "name": "stdout",
     "output_type": "stream",
     "text": [
      "Processing t-09.mp4 on thread ThreadPoolExecutor-1_0\n"
     ]
    },
    {
     "name": "stderr",
     "output_type": "stream",
     "text": [
      "Processing videos:  10%|█         | 3/30 [00:33<04:55, 10.95s/it]"
     ]
    },
    {
     "name": "stdout",
     "output_type": "stream",
     "text": [
      "Processing t-08.mp4 on thread ThreadPoolExecutor-1_0\n"
     ]
    },
    {
     "name": "stderr",
     "output_type": "stream",
     "text": [
      "Processing videos:  13%|█▎        | 4/30 [00:43<04:32, 10.48s/it]"
     ]
    },
    {
     "name": "stdout",
     "output_type": "stream",
     "text": [
      "Processing b-15.mp4 on thread ThreadPoolExecutor-1_0\n"
     ]
    },
    {
     "name": "stderr",
     "output_type": "stream",
     "text": [
      "Processing videos:  17%|█▋        | 5/30 [00:53<04:23, 10.53s/it]"
     ]
    },
    {
     "name": "stdout",
     "output_type": "stream",
     "text": [
      "Processing b-01.mp4 on thread ThreadPoolExecutor-1_0\n"
     ]
    },
    {
     "name": "stderr",
     "output_type": "stream",
     "text": [
      "Processing videos:  20%|██        | 6/30 [01:02<03:54,  9.79s/it]"
     ]
    },
    {
     "name": "stdout",
     "output_type": "stream",
     "text": [
      "Processing t-05.mp4 on thread ThreadPoolExecutor-1_0\n"
     ]
    },
    {
     "name": "stderr",
     "output_type": "stream",
     "text": [
      "Processing videos:  23%|██▎       | 7/30 [01:11<03:43,  9.73s/it]"
     ]
    },
    {
     "name": "stdout",
     "output_type": "stream",
     "text": [
      "Processing t-04.mp4 on thread ThreadPoolExecutor-1_0\n"
     ]
    },
    {
     "name": "stderr",
     "output_type": "stream",
     "text": [
      "Processing videos:  27%|██▋       | 8/30 [01:18<03:15,  8.89s/it]"
     ]
    },
    {
     "name": "stdout",
     "output_type": "stream",
     "text": [
      "Processing t-10.mp4 on thread ThreadPoolExecutor-1_0\n"
     ]
    },
    {
     "name": "stderr",
     "output_type": "stream",
     "text": [
      "Processing videos:  30%|███       | 9/30 [01:29<03:16,  9.35s/it]"
     ]
    },
    {
     "name": "stdout",
     "output_type": "stream",
     "text": [
      "Processing b-00.mp4 on thread ThreadPoolExecutor-1_0\n"
     ]
    },
    {
     "name": "stderr",
     "output_type": "stream",
     "text": [
      "Processing videos:  33%|███▎      | 10/30 [01:37<03:00,  9.02s/it]"
     ]
    },
    {
     "name": "stdout",
     "output_type": "stream",
     "text": [
      "Processing b-14.mp4 on thread ThreadPoolExecutor-1_0\n"
     ]
    },
    {
     "name": "stderr",
     "output_type": "stream",
     "text": [
      "Processing videos:  37%|███▋      | 11/30 [01:43<02:34,  8.12s/it]"
     ]
    },
    {
     "name": "stdout",
     "output_type": "stream",
     "text": [
      "Processing b-02.mp4 on thread ThreadPoolExecutor-1_0\n"
     ]
    },
    {
     "name": "stderr",
     "output_type": "stream",
     "text": [
      "Processing videos:  40%|████      | 12/30 [01:51<02:26,  8.14s/it]"
     ]
    },
    {
     "name": "stdout",
     "output_type": "stream",
     "text": [
      "Processing t-06.mp4 on thread ThreadPoolExecutor-1_0\n"
     ]
    },
    {
     "name": "stderr",
     "output_type": "stream",
     "text": [
      "Processing videos:  43%|████▎     | 13/30 [02:02<02:32,  8.97s/it]"
     ]
    },
    {
     "name": "stdout",
     "output_type": "stream",
     "text": [
      "Processing t-12.mp4 on thread ThreadPoolExecutor-1_0\n"
     ]
    },
    {
     "name": "stderr",
     "output_type": "stream",
     "text": [
      "Processing videos:  47%|████▋     | 14/30 [02:10<02:19,  8.71s/it]"
     ]
    },
    {
     "name": "stdout",
     "output_type": "stream",
     "text": [
      "Processing t-13.mp4 on thread ThreadPoolExecutor-1_0\n"
     ]
    },
    {
     "name": "stderr",
     "output_type": "stream",
     "text": [
      "Processing videos:  50%|█████     | 15/30 [02:22<02:22,  9.49s/it]"
     ]
    },
    {
     "name": "stdout",
     "output_type": "stream",
     "text": [
      "Processing t-07.mp4 on thread ThreadPoolExecutor-1_0\n"
     ]
    },
    {
     "name": "stderr",
     "output_type": "stream",
     "text": [
      "Processing videos:  53%|█████▎    | 16/30 [02:31<02:13,  9.51s/it]"
     ]
    },
    {
     "name": "stdout",
     "output_type": "stream",
     "text": [
      "Processing b-03.mp4 on thread ThreadPoolExecutor-1_0\n"
     ]
    },
    {
     "name": "stderr",
     "output_type": "stream",
     "text": [
      "Processing videos:  57%|█████▋    | 17/30 [02:40<02:01,  9.37s/it]"
     ]
    },
    {
     "name": "stdout",
     "output_type": "stream",
     "text": [
      "Processing b-07.mp4 on thread ThreadPoolExecutor-1_0\n"
     ]
    },
    {
     "name": "stderr",
     "output_type": "stream",
     "text": [
      "Processing videos:  60%|██████    | 18/30 [02:49<01:51,  9.32s/it]"
     ]
    },
    {
     "name": "stdout",
     "output_type": "stream",
     "text": [
      "Processing b-13.mp4 on thread ThreadPoolExecutor-1_0\n"
     ]
    },
    {
     "name": "stderr",
     "output_type": "stream",
     "text": [
      "Processing videos:  63%|██████▎   | 19/30 [03:01<01:49,  9.92s/it]"
     ]
    },
    {
     "name": "stdout",
     "output_type": "stream",
     "text": [
      "Processing t-03.mp4 on thread ThreadPoolExecutor-1_0\n"
     ]
    },
    {
     "name": "stderr",
     "output_type": "stream",
     "text": [
      "Processing videos:  67%|██████▋   | 20/30 [03:09<01:33,  9.40s/it]"
     ]
    },
    {
     "name": "stdout",
     "output_type": "stream",
     "text": [
      "Processing t-02.mp4 on thread ThreadPoolExecutor-1_0\n"
     ]
    },
    {
     "name": "stderr",
     "output_type": "stream",
     "text": [
      "Processing videos:  70%|███████   | 21/30 [03:17<01:22,  9.18s/it]"
     ]
    },
    {
     "name": "stdout",
     "output_type": "stream",
     "text": [
      "Processing b-12.mp4 on thread ThreadPoolExecutor-1_0\n"
     ]
    },
    {
     "name": "stderr",
     "output_type": "stream",
     "text": [
      "Processing videos:  73%|███████▎  | 22/30 [03:27<01:14,  9.33s/it]"
     ]
    },
    {
     "name": "stdout",
     "output_type": "stream",
     "text": [
      "Processing b-06.mp4 on thread ThreadPoolExecutor-1_0\n"
     ]
    },
    {
     "name": "stderr",
     "output_type": "stream",
     "text": [
      "Processing videos:  77%|███████▋  | 23/30 [03:35<01:01,  8.76s/it]"
     ]
    },
    {
     "name": "stdout",
     "output_type": "stream",
     "text": [
      "Processing b-10.mp4 on thread ThreadPoolExecutor-1_0\n"
     ]
    },
    {
     "name": "stderr",
     "output_type": "stream",
     "text": [
      "Processing videos:  80%|████████  | 24/30 [03:42<00:50,  8.40s/it]"
     ]
    },
    {
     "name": "stdout",
     "output_type": "stream",
     "text": [
      "Processing t-14.mp4 on thread ThreadPoolExecutor-1_0\n"
     ]
    },
    {
     "name": "stderr",
     "output_type": "stream",
     "text": [
      "Processing videos:  83%|████████▎ | 25/30 [03:53<00:45,  9.12s/it]"
     ]
    },
    {
     "name": "stdout",
     "output_type": "stream",
     "text": [
      "Processing t-00.mp4 on thread ThreadPoolExecutor-1_0\n"
     ]
    },
    {
     "name": "stderr",
     "output_type": "stream",
     "text": [
      "Processing videos:  87%|████████▋ | 26/30 [04:02<00:36,  9.13s/it]"
     ]
    },
    {
     "name": "stdout",
     "output_type": "stream",
     "text": [
      "Processing t-01.mp4 on thread ThreadPoolExecutor-1_0\n"
     ]
    },
    {
     "name": "stderr",
     "output_type": "stream",
     "text": [
      "Processing videos:  90%|█████████ | 27/30 [04:12<00:27,  9.24s/it]"
     ]
    },
    {
     "name": "stdout",
     "output_type": "stream",
     "text": [
      "Processing t-15.mp4 on thread ThreadPoolExecutor-1_0\n"
     ]
    },
    {
     "name": "stderr",
     "output_type": "stream",
     "text": [
      "Processing videos:  93%|█████████▎| 28/30 [04:24<00:20, 10.06s/it]"
     ]
    },
    {
     "name": "stdout",
     "output_type": "stream",
     "text": [
      "Processing b-05.mp4 on thread ThreadPoolExecutor-1_0\n"
     ]
    },
    {
     "name": "stderr",
     "output_type": "stream",
     "text": [
      "Processing videos:  97%|█████████▋| 29/30 [04:34<00:10, 10.16s/it]"
     ]
    },
    {
     "name": "stdout",
     "output_type": "stream",
     "text": [
      "Processing b-11.mp4 on thread ThreadPoolExecutor-1_0\n"
     ]
    },
    {
     "name": "stderr",
     "output_type": "stream",
     "text": [
      "Processing videos: 100%|██████████| 30/30 [04:41<00:00,  9.40s/it]"
     ]
    },
    {
     "name": "stdout",
     "output_type": "stream",
     "text": [
      "\n",
      " Finished processing first 2 videos.\n"
     ]
    },
    {
     "name": "stderr",
     "output_type": "stream",
     "text": [
      "\n"
     ]
    }
   ],
   "source": [
    "filenames = os.listdir(PDD_PATH)\n",
    "\n",
    "data = []\n",
    "\n",
    "with ThreadPoolExecutor(max_workers=1) as executor:\n",
    "    futures = [executor.submit(process_video, fname) for fname in filenames]\n",
    "    for future in tqdm(as_completed(futures), total=len(futures), desc=\"Processing videos\"):\n",
    "        result = future.result()\n",
    "        if result:\n",
    "            data.append(result)\n",
    "\n",
    "# Convert to DataFrame\n",
    "df_features = pd.DataFrame(data)\n",
    "df_features.set_index('filename', inplace=True)\n",
    "\n",
    "# Show summary\n",
    "print(\"\\n Finished processing first 2 videos.\")"
   ]
  },
  {
   "cell_type": "code",
   "execution_count": 27,
   "metadata": {},
   "outputs": [
    {
     "data": {
      "text/html": [
       "<div>\n",
       "<style scoped>\n",
       "    .dataframe tbody tr th:only-of-type {\n",
       "        vertical-align: middle;\n",
       "    }\n",
       "\n",
       "    .dataframe tbody tr th {\n",
       "        vertical-align: top;\n",
       "    }\n",
       "\n",
       "    .dataframe thead th {\n",
       "        text-align: right;\n",
       "    }\n",
       "</style>\n",
       "<table border=\"1\" class=\"dataframe\">\n",
       "  <thead>\n",
       "    <tr style=\"text-align: right;\">\n",
       "      <th></th>\n",
       "      <th>fake</th>\n",
       "      <th>flicker</th>\n",
       "      <th>lip_movement_variance</th>\n",
       "      <th>blink</th>\n",
       "      <th>head_movement</th>\n",
       "      <th>pulse</th>\n",
       "      <th>psnr</th>\n",
       "      <th>ssim</th>\n",
       "      <th>feature_lengths</th>\n",
       "    </tr>\n",
       "    <tr>\n",
       "      <th>filename</th>\n",
       "      <th></th>\n",
       "      <th></th>\n",
       "      <th></th>\n",
       "      <th></th>\n",
       "      <th></th>\n",
       "      <th></th>\n",
       "      <th></th>\n",
       "      <th></th>\n",
       "      <th></th>\n",
       "    </tr>\n",
       "  </thead>\n",
       "  <tbody>\n",
       "    <tr>\n",
       "      <th>b-08.mp4</th>\n",
       "      <td>0</td>\n",
       "      <td>[-0.7271178364753723, 1.650829792022705, -0.69...</td>\n",
       "      <td>[1.1111111111111112, 0.7537783614444091, 0.952...</td>\n",
       "      <td>[6, 0, 1, 1, 2]</td>\n",
       "      <td>[-1.2751419341699497, -1.8973103806689957, -0....</td>\n",
       "      <td>[19.1752, 19.1728, 19.814, 19.8668, 19.3068, 1...</td>\n",
       "      <td>[0.7573672478334952, -1.2610070849997308, 0.72...</td>\n",
       "      <td>[0.6708920182845275, -1.3536855272618769, 0.94...</td>\n",
       "      <td>[45, 5, 5, 50, 50, 45, 45]</td>\n",
       "    </tr>\n",
       "    <tr>\n",
       "      <th>b-09.mp4</th>\n",
       "      <td>0</td>\n",
       "      <td>[-0.7352153658866882, -0.06433255225419998, -0...</td>\n",
       "      <td>[0.8395662798164726, 1.0619766763577223, 0.828...</td>\n",
       "      <td>[2, 0, 0, 0, 4]</td>\n",
       "      <td>[-0.2860707930511538, -0.2860707930511538, -1....</td>\n",
       "      <td>[98.8368, 99.5108, 97.4772, 96.902, 93.8928, 9...</td>\n",
       "      <td>[0.6902879105596079, -0.7858917294454759, 1.36...</td>\n",
       "      <td>[0.9224829297966465, -0.5719733636365226, 1.09...</td>\n",
       "      <td>[45, 5, 5, 50, 50, 45, 45]</td>\n",
       "    </tr>\n",
       "    <tr>\n",
       "      <th>t-09.mp4</th>\n",
       "      <td>0</td>\n",
       "      <td>[-0.3087025582790375, 1.8230574131011963, -0.8...</td>\n",
       "      <td>[0.5243788202755697, 0.8985956492257652, 0.614...</td>\n",
       "      <td>[8, 10, 9, 7, 7]</td>\n",
       "      <td>[0.5326861616166986, 0.5326861616166986, 0.447...</td>\n",
       "      <td>[57.6116, 57.7592, 57.2744, 57.2916, 56.8808, ...</td>\n",
       "      <td>[-0.14668754610983095, -1.158672486023009, 0.3...</td>\n",
       "      <td>[0.36958386104134977, -1.652903457704924, 0.81...</td>\n",
       "      <td>[45, 5, 5, 50, 50, 45, 45]</td>\n",
       "    </tr>\n",
       "    <tr>\n",
       "      <th>t-08.mp4</th>\n",
       "      <td>0</td>\n",
       "      <td>[-1.0070769786834717, 0.8262362480163574, -1.1...</td>\n",
       "      <td>[1.088662107903635, 1.311859599864291, 0.85470...</td>\n",
       "      <td>[0, 3, 4, 2, 0]</td>\n",
       "      <td>[-0.8148675349460605, -0.8148675349460605, -0....</td>\n",
       "      <td>[72.908, 72.9028, 72.5716, 72.5696, 72.57, 72....</td>\n",
       "      <td>[1.3230831674506274, -0.9179443804713251, 1.78...</td>\n",
       "      <td>[1.020598634047629, -0.9507252149224188, 1.117...</td>\n",
       "      <td>[45, 5, 5, 50, 50, 45, 45]</td>\n",
       "    </tr>\n",
       "    <tr>\n",
       "      <th>b-15.mp4</th>\n",
       "      <td>0</td>\n",
       "      <td>[-0.8217584490776062, 2.055525064468384, -0.72...</td>\n",
       "      <td>[0.0, 1.25, 0.7350904618932951, 0.867801596116...</td>\n",
       "      <td>[0, 1, 0, 0, 0]</td>\n",
       "      <td>[0.0, 0.0, 0.0, 0.0, 0.0, 0.0, 0.0, 0.0, 0.0, ...</td>\n",
       "      <td>[170.486, 170.4872, 170.608, 170.606, 170.8984...</td>\n",
       "      <td>[1.0498965894552164, -1.2680845689369016, 0.24...</td>\n",
       "      <td>[0.9001384801481376, -1.4031126741124018, 0.73...</td>\n",
       "      <td>[45, 5, 5, 50, 50, 45, 45]</td>\n",
       "    </tr>\n",
       "    <tr>\n",
       "      <th>b-01.mp4</th>\n",
       "      <td>1</td>\n",
       "      <td>[-0.8112826347351074, 1.4683659076690674, -0.5...</td>\n",
       "      <td>[1.0830607221477648, 0.6550070497184036, 1.060...</td>\n",
       "      <td>[0, 8, 1, 2, 0]</td>\n",
       "      <td>[-1.408794964806644, -1.408794964806644, 1.150...</td>\n",
       "      <td>[84.8596, 84.8596, 84.8596, 84.8596, 84.8596, ...</td>\n",
       "      <td>[1.2594844812701942, -1.367828824711328, 0.116...</td>\n",
       "      <td>[0.80756619969941, -1.7976031604738176, 0.6214...</td>\n",
       "      <td>[45, 5, 5, 50, 50, 45, 45]</td>\n",
       "    </tr>\n",
       "    <tr>\n",
       "      <th>t-05.mp4</th>\n",
       "      <td>1</td>\n",
       "      <td>[-0.8409959673881531, 1.9394997358322144, -0.8...</td>\n",
       "      <td>[0.9494253265550826, 0.7149065624813993, 0.937...</td>\n",
       "      <td>[0, 0, 0, 0, 7]</td>\n",
       "      <td>[0.5599150812251459, 0.5665222076132084, -1.99...</td>\n",
       "      <td>[111.8868, 111.8868, 111.8868, 111.8868, 111.4...</td>\n",
       "      <td>[1.0107683132143965, -1.1261747295561992, 0.96...</td>\n",
       "      <td>[0.9457259316327042, -1.4990528777585042, 0.96...</td>\n",
       "      <td>[45, 5, 5, 50, 50, 45, 45]</td>\n",
       "    </tr>\n",
       "    <tr>\n",
       "      <th>t-04.mp4</th>\n",
       "      <td>1</td>\n",
       "      <td>[-0.5877202153205872, 2.283911943435669, -0.74...</td>\n",
       "      <td>[0.8639187954496622, 1.111111111111111, 0.5939...</td>\n",
       "      <td>[1, 4, 0, 0, 0]</td>\n",
       "      <td>[0.5525320448637286, 0.4618810757950802, -1.99...</td>\n",
       "      <td>[99.8308, 99.2296, 97.342, 97.226, 84.9856, 84...</td>\n",
       "      <td>[0.3204359924534859, -1.4788425221875032, 1.38...</td>\n",
       "      <td>[0.5293111696608028, -1.5817853119801977, 1.03...</td>\n",
       "      <td>[45, 5, 5, 50, 50, 45, 45]</td>\n",
       "    </tr>\n",
       "    <tr>\n",
       "      <th>t-10.mp4</th>\n",
       "      <td>0</td>\n",
       "      <td>[-0.6566253304481506, 1.8760687112808228, -0.9...</td>\n",
       "      <td>[0.928476690885259, 0.5432235633763386, 0.6025...</td>\n",
       "      <td>[0, 1, 0, 0, 4]</td>\n",
       "      <td>[-1.4664127344361433, -1.3771840981929615, 1.5...</td>\n",
       "      <td>[79.566, 79.6396, 77.3744, 77.5776, 77.36, 77....</td>\n",
       "      <td>[0.28665158635994537, -1.3224705770777507, 0.6...</td>\n",
       "      <td>[0.8453051895177661, -1.507481278252177, 0.937...</td>\n",
       "      <td>[45, 5, 5, 50, 50, 45, 45]</td>\n",
       "    </tr>\n",
       "    <tr>\n",
       "      <th>b-00.mp4</th>\n",
       "      <td>1</td>\n",
       "      <td>[-0.307506263256073, 2.4255805015563965, -0.70...</td>\n",
       "      <td>[0.6085806194501846, 0.8844775024088793, 0.978...</td>\n",
       "      <td>[9, 5, 6, 4, 7]</td>\n",
       "      <td>[-1.7459646715545223, -2.0594027313882046, 0.9...</td>\n",
       "      <td>[89.8044, 89.998, 90.3408, 90.02, 90.074, 89.9...</td>\n",
       "      <td>[-0.38566932499027573, -1.3952524925851661, 0....</td>\n",
       "      <td>[0.30350235929736924, -1.8795401744253186, 0.8...</td>\n",
       "      <td>[45, 5, 5, 50, 50, 45, 45]</td>\n",
       "    </tr>\n",
       "    <tr>\n",
       "      <th>b-14.mp4</th>\n",
       "      <td>0</td>\n",
       "      <td>[-0.25338324904441833, 1.1630784273147583, -1....</td>\n",
       "      <td>[0.9722222222222222, 0.8304547985373997, 1.024...</td>\n",
       "      <td>[8, 7, 6, 6, 0]</td>\n",
       "      <td>[-1.2782177582709875, -0.7919540275589437, -1....</td>\n",
       "      <td>[74.7028, 74.98, 77.5244, 77.5772, 79.994, 79....</td>\n",
       "      <td>[-1.123918986599613, -1.3939800828880595, 1.24...</td>\n",
       "      <td>[0.06242160121553413, -1.7896980401878793, 0.9...</td>\n",
       "      <td>[45, 5, 5, 50, 50, 45, 45]</td>\n",
       "    </tr>\n",
       "    <tr>\n",
       "      <th>b-02.mp4</th>\n",
       "      <td>1</td>\n",
       "      <td>[-0.7970067858695984, -0.6528399586677551, -0....</td>\n",
       "      <td>[1.5006126199969525, 1.0392304845413265, 0.0, ...</td>\n",
       "      <td>[2, 6, 2, 8, 2]</td>\n",
       "      <td>[-0.9991740122586015, -0.9991740122586015, -0....</td>\n",
       "      <td>[15.6884, 15.6884, 15.6884, 15.6884, 16.2644, ...</td>\n",
       "      <td>[0.9774373489111259, 0.13955182009296835, 0.99...</td>\n",
       "      <td>[0.8652022030065507, 0.610033984027437, 0.8913...</td>\n",
       "      <td>[45, 5, 5, 50, 50, 45, 45]</td>\n",
       "    </tr>\n",
       "    <tr>\n",
       "      <th>t-06.mp4</th>\n",
       "      <td>1</td>\n",
       "      <td>[-0.06335219740867615, 0.48966631293296814, -1...</td>\n",
       "      <td>[0.7808688094430303, 0.8316168879819432, 1.187...</td>\n",
       "      <td>[0, 0, 0, 1, 0]</td>\n",
       "      <td>[-0.13665397111314914, -0.13665397111314914, -...</td>\n",
       "      <td>[21.5436, 21.5436, 21.5388, 21.5388, 21.504, 2...</td>\n",
       "      <td>[-0.3081716187655303, -0.7824946103919579, 2.4...</td>\n",
       "      <td>[0.11149928099450791, -1.2230854759358192, 1.3...</td>\n",
       "      <td>[45, 5, 5, 50, 50, 45, 45]</td>\n",
       "    </tr>\n",
       "    <tr>\n",
       "      <th>t-12.mp4</th>\n",
       "      <td>0</td>\n",
       "      <td>[-0.3754362165927887, 1.3879010677337646, -1.1...</td>\n",
       "      <td>[1.2560386473429952, 0.6227205981308944, 0.700...</td>\n",
       "      <td>[0, 0, 0, 0, 0]</td>\n",
       "      <td>[1.2711326588271918, 1.3146841773507512, -0.97...</td>\n",
       "      <td>[200.7544, 200.7544, 200.7544, 200.7544, 200.9...</td>\n",
       "      <td>[-0.054922277677991606, -1.0307747854994898, 1...</td>\n",
       "      <td>[0.4122451216800699, -0.9376834249389634, 1.27...</td>\n",
       "      <td>[45, 5, 5, 50, 50, 45, 45]</td>\n",
       "    </tr>\n",
       "    <tr>\n",
       "      <th>t-13.mp4</th>\n",
       "      <td>0</td>\n",
       "      <td>[-0.7174738645553589, 1.0071662664413452, -1.0...</td>\n",
       "      <td>[1.0185185185185186, 0.6558884354916107, 0.455...</td>\n",
       "      <td>[1, 0, 0, 2, 0]</td>\n",
       "      <td>[0.7179613987127681, 0.7179613987127681, -1.04...</td>\n",
       "      <td>[138.61, 139.4596, 142.7128, 142.7108, 139.702...</td>\n",
       "      <td>[0.48842217030706647, -0.934187447491646, 1.99...</td>\n",
       "      <td>[0.7074859778486557, -1.5761384436169998, 0.91...</td>\n",
       "      <td>[45, 5, 5, 50, 50, 45, 45]</td>\n",
       "    </tr>\n",
       "    <tr>\n",
       "      <th>t-07.mp4</th>\n",
       "      <td>1</td>\n",
       "      <td>[-0.6940354108810425, -0.36456602811813354, -0...</td>\n",
       "      <td>[0.42426406871192845, 1.1486868080459196, 1.23...</td>\n",
       "      <td>[2, 0, 2, 0, 0]</td>\n",
       "      <td>[-1.224443933287305, -1.224443933287305, -1.22...</td>\n",
       "      <td>[84.5256, 84.3308, 85.0532, 85.3928, 85.0704, ...</td>\n",
       "      <td>[0.7651078755752756, -0.3175732675782609, -0.5...</td>\n",
       "      <td>[0.8128153554045351, 0.2922722265159257, 0.372...</td>\n",
       "      <td>[45, 5, 5, 50, 50, 45, 45]</td>\n",
       "    </tr>\n",
       "    <tr>\n",
       "      <th>b-03.mp4</th>\n",
       "      <td>1</td>\n",
       "      <td>[-0.8335750102996826, 0.7445854544639587, -0.8...</td>\n",
       "      <td>[0.7407407407407408, 1.1111111111111112, 0.768...</td>\n",
       "      <td>[2, 5, 6, 3, 0]</td>\n",
       "      <td>[1.012231319514475, 1.9643055174391224, 0.1620...</td>\n",
       "      <td>[98.8272, 99.2696, 99.1656, 99.2684, 99.2768, ...</td>\n",
       "      <td>[0.7391156429499395, -1.019500894121023, 0.867...</td>\n",
       "      <td>[0.850474590982073, -0.9224911492643451, 0.894...</td>\n",
       "      <td>[45, 5, 5, 50, 50, 45, 45]</td>\n",
       "    </tr>\n",
       "    <tr>\n",
       "      <th>b-07.mp4</th>\n",
       "      <td>1</td>\n",
       "      <td>[-0.8055748343467712, 1.4023289680480957, -1.0...</td>\n",
       "      <td>[0.873015873015873, 1.4814814814814816, 0.6371...</td>\n",
       "      <td>[9, 7, 2, 10, 7]</td>\n",
       "      <td>[-0.6795510868726463, -0.4445615697852283, -1....</td>\n",
       "      <td>[49.2628, 49.2628, 48.3156, 48.3156, 47.678, 4...</td>\n",
       "      <td>[0.5596153027299786, -1.0972061502981307, 1.85...</td>\n",
       "      <td>[0.858044626334909, -1.3168229974773227, 1.090...</td>\n",
       "      <td>[45, 5, 5, 50, 50, 45, 45]</td>\n",
       "    </tr>\n",
       "    <tr>\n",
       "      <th>b-13.mp4</th>\n",
       "      <td>0</td>\n",
       "      <td>[-0.8060237765312195, 0.5348785519599915, -0.7...</td>\n",
       "      <td>[0.700542583323645, 0.8281733249999221, 0.7273...</td>\n",
       "      <td>[4, 0, 7, 2, 4]</td>\n",
       "      <td>[-0.14282727656303174, -0.11912273076819214, -...</td>\n",
       "      <td>[47.3804, 47.3888, 47.3928, 47.3928, 47.3456, ...</td>\n",
       "      <td>[0.6818241314354496, -1.0610104985361624, 0.37...</td>\n",
       "      <td>[0.8353754627242193, -1.1589993009790216, 0.74...</td>\n",
       "      <td>[45, 5, 5, 50, 50, 45, 45]</td>\n",
       "    </tr>\n",
       "    <tr>\n",
       "      <th>t-03.mp4</th>\n",
       "      <td>1</td>\n",
       "      <td>[-0.5802306532859802, 0.5419963598251343, -0.7...</td>\n",
       "      <td>[0.7001400420140049, 0.8040302522073697, 0.571...</td>\n",
       "      <td>[0, 1, 0, 0, 0]</td>\n",
       "      <td>[0.43156352911500784, 0.548339062111281, -0.92...</td>\n",
       "      <td>[46.134, 46.148, 45.8412, 45.8684, 45.882, 45....</td>\n",
       "      <td>[0.2235089040328902, -1.0123880635210265, 1.78...</td>\n",
       "      <td>[0.7257095122570908, -1.1242304578884121, 1.06...</td>\n",
       "      <td>[45, 5, 5, 50, 50, 45, 45]</td>\n",
       "    </tr>\n",
       "    <tr>\n",
       "      <th>t-02.mp4</th>\n",
       "      <td>1</td>\n",
       "      <td>[-0.46411100029945374, 2.545438051223755, -0.6...</td>\n",
       "      <td>[0.5841439391177646, 0.8676320104922559, 0.884...</td>\n",
       "      <td>[0, 0, 2, 6, 0]</td>\n",
       "      <td>[1.8747327571937467, 1.3653706696244408, -1.29...</td>\n",
       "      <td>[68.2156, 68.2156, 68.072, 68.072, 68.4, 68.4,...</td>\n",
       "      <td>[0.3337716790471284, -1.7739139945048301, 1.24...</td>\n",
       "      <td>[0.5080275652011598, -2.6044144804512035, 0.70...</td>\n",
       "      <td>[45, 5, 5, 50, 50, 45, 45]</td>\n",
       "    </tr>\n",
       "    <tr>\n",
       "      <th>b-12.mp4</th>\n",
       "      <td>0</td>\n",
       "      <td>[-0.7609813213348389, 0.5508744716644287, -0.7...</td>\n",
       "      <td>[0.4536092116265144, 1.1025309741262972, 0.637...</td>\n",
       "      <td>[5, 1, 4, 0, 2]</td>\n",
       "      <td>[1.1471244095415292, 1.1471244095415292, -0.72...</td>\n",
       "      <td>[134.1508, 134.1508, 134.1508, 134.1508, 133.7...</td>\n",
       "      <td>[0.5468643764071204, -1.00264145465385, 0.5808...</td>\n",
       "      <td>[0.8272214618537277, -1.0713586190891602, 0.83...</td>\n",
       "      <td>[45, 5, 5, 50, 50, 45, 45]</td>\n",
       "    </tr>\n",
       "    <tr>\n",
       "      <th>b-06.mp4</th>\n",
       "      <td>1</td>\n",
       "      <td>[-0.7165854573249817, 0.49686551094055176, -0....</td>\n",
       "      <td>[0.8628669719059121, 0.9722222222222222, 0.745...</td>\n",
       "      <td>[2, 0, 8, 0, 4]</td>\n",
       "      <td>[-1.7242642280110878, -1.9984680062170292, -0....</td>\n",
       "      <td>[97.226, 97.226, 97.226, 97.226, 97.5416, 97.5...</td>\n",
       "      <td>[1.0625584238221115, -0.8696723851316323, 0.05...</td>\n",
       "      <td>[0.6151806558863544, -0.16963184436401627, 0.3...</td>\n",
       "      <td>[45, 5, 5, 50, 50, 45, 45]</td>\n",
       "    </tr>\n",
       "    <tr>\n",
       "      <th>b-10.mp4</th>\n",
       "      <td>0</td>\n",
       "      <td>[-0.860231339931488, 0.6818062663078308, -0.81...</td>\n",
       "      <td>[0.7537783614444089, 0.8045977011494254, 0.572...</td>\n",
       "      <td>[0, 0, 1, 0, 0]</td>\n",
       "      <td>[-0.48002777999280577, -0.7881585110307583, 0....</td>\n",
       "      <td>[31.8556, 31.8556, 31.7832, 31.7832, 31.8716, ...</td>\n",
       "      <td>[0.816504636387092, -0.8271097798048267, 0.735...</td>\n",
       "      <td>[1.0136294386558264, -0.8952516439491228, 0.98...</td>\n",
       "      <td>[45, 5, 5, 50, 50, 45, 45]</td>\n",
       "    </tr>\n",
       "    <tr>\n",
       "      <th>t-14.mp4</th>\n",
       "      <td>0</td>\n",
       "      <td>[-0.8169285655021667, 0.049211956560611725, -0...</td>\n",
       "      <td>[0.6944444444444444, 0.7585068319847657, 0.782...</td>\n",
       "      <td>[0, 0, 0, 0, 0]</td>\n",
       "      <td>[0.4266244495923563, -0.20198092148841446, -1....</td>\n",
       "      <td>[66.4404, 66.4404, 66.07, 65.8488, 65.772, 66....</td>\n",
       "      <td>[0.456826931636158, -0.6975777528483709, 0.893...</td>\n",
       "      <td>[0.7863091263328852, -0.5728023197518536, 0.59...</td>\n",
       "      <td>[45, 5, 5, 50, 50, 45, 45]</td>\n",
       "    </tr>\n",
       "    <tr>\n",
       "      <th>t-00.mp4</th>\n",
       "      <td>1</td>\n",
       "      <td>[-1.1383099555969238, 1.7885591983795166, -0.7...</td>\n",
       "      <td>[0.8333333333333334, 0.7027283689263064, 0.869...</td>\n",
       "      <td>[0, 0, 0, 0, 0]</td>\n",
       "      <td>[1.3007475425598014, 0.10926316676238616, -1.0...</td>\n",
       "      <td>[141.2596, 141.2596, 141.174, 141.1752, 140.54...</td>\n",
       "      <td>[2.026235280974939, -1.298242265861268, 0.6356...</td>\n",
       "      <td>[1.1396015383620877, -1.3536350349772763, 0.87...</td>\n",
       "      <td>[45, 5, 5, 50, 50, 45, 45]</td>\n",
       "    </tr>\n",
       "    <tr>\n",
       "      <th>t-01.mp4</th>\n",
       "      <td>1</td>\n",
       "      <td>[-0.6780298352241516, -0.38384535908699036, -0...</td>\n",
       "      <td>[0.9578262852211513, 1.0895340841010224, 1.089...</td>\n",
       "      <td>[0, 0, 1, 4, 2]</td>\n",
       "      <td>[2.004203912085808, 1.092862533063366, -0.6907...</td>\n",
       "      <td>[35.3552, 35.3552, 35.3552, 35.3552, 35.6344, ...</td>\n",
       "      <td>[1.2119011394918258, -0.2452564417325659, 0.79...</td>\n",
       "      <td>[0.7247816978750832, 0.38451800592301316, 0.67...</td>\n",
       "      <td>[45, 5, 5, 50, 50, 45, 45]</td>\n",
       "    </tr>\n",
       "    <tr>\n",
       "      <th>t-15.mp4</th>\n",
       "      <td>0</td>\n",
       "      <td>[-0.7324457168579102, 0.38080352544784546, -0....</td>\n",
       "      <td>[0.8888888888888888, 0.7881104062391007, 1.010...</td>\n",
       "      <td>[0, 1, 0, 0, 0]</td>\n",
       "      <td>[1.3814456581237442, 1.3787036599162577, 0.877...</td>\n",
       "      <td>[73.99, 73.99, 73.99, 74.222, 74.3, 74.3, 75.0...</td>\n",
       "      <td>[0.8200243278928125, -1.1455827058870098, 0.80...</td>\n",
       "      <td>[0.9769716012792538, -0.6641132732600387, 0.17...</td>\n",
       "      <td>[45, 5, 5, 50, 50, 45, 45]</td>\n",
       "    </tr>\n",
       "    <tr>\n",
       "      <th>b-05.mp4</th>\n",
       "      <td>1</td>\n",
       "      <td>[-0.8241769671440125, 0.19688820838928223, -0....</td>\n",
       "      <td>[0.7889592645714878, 1.1111111111111112, 0.635...</td>\n",
       "      <td>[0, 0, 0, 2, 2]</td>\n",
       "      <td>[-0.32937659264643193, -0.32937659264643193, 1...</td>\n",
       "      <td>[43.8976, 43.8976, 43.1936, 43.1936, 43.2044, ...</td>\n",
       "      <td>[1.8144970749871363, -0.5001740404099501, 0.77...</td>\n",
       "      <td>[0.844604503516764, -0.2595979802797669, 0.785...</td>\n",
       "      <td>[45, 5, 5, 50, 50, 45, 45]</td>\n",
       "    </tr>\n",
       "    <tr>\n",
       "      <th>b-11.mp4</th>\n",
       "      <td>0</td>\n",
       "      <td>[-0.6896160244941711, 0.1398618072271347, -0.8...</td>\n",
       "      <td>[0.8395662798164727, 0.5461546136793604, 1.077...</td>\n",
       "      <td>[1, 0, 0, 4, 6]</td>\n",
       "      <td>[-0.7645984022234743, -0.7152423519383067, -1....</td>\n",
       "      <td>[110.7616, 110.7924, 110.9468, 110.9468, 111.2...</td>\n",
       "      <td>[0.7017880210377696, -0.7935833221677464, 0.98...</td>\n",
       "      <td>[0.785340900508427, -0.44912828906134966, 0.88...</td>\n",
       "      <td>[45, 5, 5, 50, 50, 45, 45]</td>\n",
       "    </tr>\n",
       "  </tbody>\n",
       "</table>\n",
       "</div>"
      ],
      "text/plain": [
       "          fake                                            flicker  \\\n",
       "filename                                                            \n",
       "b-08.mp4     0  [-0.7271178364753723, 1.650829792022705, -0.69...   \n",
       "b-09.mp4     0  [-0.7352153658866882, -0.06433255225419998, -0...   \n",
       "t-09.mp4     0  [-0.3087025582790375, 1.8230574131011963, -0.8...   \n",
       "t-08.mp4     0  [-1.0070769786834717, 0.8262362480163574, -1.1...   \n",
       "b-15.mp4     0  [-0.8217584490776062, 2.055525064468384, -0.72...   \n",
       "b-01.mp4     1  [-0.8112826347351074, 1.4683659076690674, -0.5...   \n",
       "t-05.mp4     1  [-0.8409959673881531, 1.9394997358322144, -0.8...   \n",
       "t-04.mp4     1  [-0.5877202153205872, 2.283911943435669, -0.74...   \n",
       "t-10.mp4     0  [-0.6566253304481506, 1.8760687112808228, -0.9...   \n",
       "b-00.mp4     1  [-0.307506263256073, 2.4255805015563965, -0.70...   \n",
       "b-14.mp4     0  [-0.25338324904441833, 1.1630784273147583, -1....   \n",
       "b-02.mp4     1  [-0.7970067858695984, -0.6528399586677551, -0....   \n",
       "t-06.mp4     1  [-0.06335219740867615, 0.48966631293296814, -1...   \n",
       "t-12.mp4     0  [-0.3754362165927887, 1.3879010677337646, -1.1...   \n",
       "t-13.mp4     0  [-0.7174738645553589, 1.0071662664413452, -1.0...   \n",
       "t-07.mp4     1  [-0.6940354108810425, -0.36456602811813354, -0...   \n",
       "b-03.mp4     1  [-0.8335750102996826, 0.7445854544639587, -0.8...   \n",
       "b-07.mp4     1  [-0.8055748343467712, 1.4023289680480957, -1.0...   \n",
       "b-13.mp4     0  [-0.8060237765312195, 0.5348785519599915, -0.7...   \n",
       "t-03.mp4     1  [-0.5802306532859802, 0.5419963598251343, -0.7...   \n",
       "t-02.mp4     1  [-0.46411100029945374, 2.545438051223755, -0.6...   \n",
       "b-12.mp4     0  [-0.7609813213348389, 0.5508744716644287, -0.7...   \n",
       "b-06.mp4     1  [-0.7165854573249817, 0.49686551094055176, -0....   \n",
       "b-10.mp4     0  [-0.860231339931488, 0.6818062663078308, -0.81...   \n",
       "t-14.mp4     0  [-0.8169285655021667, 0.049211956560611725, -0...   \n",
       "t-00.mp4     1  [-1.1383099555969238, 1.7885591983795166, -0.7...   \n",
       "t-01.mp4     1  [-0.6780298352241516, -0.38384535908699036, -0...   \n",
       "t-15.mp4     0  [-0.7324457168579102, 0.38080352544784546, -0....   \n",
       "b-05.mp4     1  [-0.8241769671440125, 0.19688820838928223, -0....   \n",
       "b-11.mp4     0  [-0.6896160244941711, 0.1398618072271347, -0.8...   \n",
       "\n",
       "                                      lip_movement_variance             blink  \\\n",
       "filename                                                                        \n",
       "b-08.mp4  [1.1111111111111112, 0.7537783614444091, 0.952...   [6, 0, 1, 1, 2]   \n",
       "b-09.mp4  [0.8395662798164726, 1.0619766763577223, 0.828...   [2, 0, 0, 0, 4]   \n",
       "t-09.mp4  [0.5243788202755697, 0.8985956492257652, 0.614...  [8, 10, 9, 7, 7]   \n",
       "t-08.mp4  [1.088662107903635, 1.311859599864291, 0.85470...   [0, 3, 4, 2, 0]   \n",
       "b-15.mp4  [0.0, 1.25, 0.7350904618932951, 0.867801596116...   [0, 1, 0, 0, 0]   \n",
       "b-01.mp4  [1.0830607221477648, 0.6550070497184036, 1.060...   [0, 8, 1, 2, 0]   \n",
       "t-05.mp4  [0.9494253265550826, 0.7149065624813993, 0.937...   [0, 0, 0, 0, 7]   \n",
       "t-04.mp4  [0.8639187954496622, 1.111111111111111, 0.5939...   [1, 4, 0, 0, 0]   \n",
       "t-10.mp4  [0.928476690885259, 0.5432235633763386, 0.6025...   [0, 1, 0, 0, 4]   \n",
       "b-00.mp4  [0.6085806194501846, 0.8844775024088793, 0.978...   [9, 5, 6, 4, 7]   \n",
       "b-14.mp4  [0.9722222222222222, 0.8304547985373997, 1.024...   [8, 7, 6, 6, 0]   \n",
       "b-02.mp4  [1.5006126199969525, 1.0392304845413265, 0.0, ...   [2, 6, 2, 8, 2]   \n",
       "t-06.mp4  [0.7808688094430303, 0.8316168879819432, 1.187...   [0, 0, 0, 1, 0]   \n",
       "t-12.mp4  [1.2560386473429952, 0.6227205981308944, 0.700...   [0, 0, 0, 0, 0]   \n",
       "t-13.mp4  [1.0185185185185186, 0.6558884354916107, 0.455...   [1, 0, 0, 2, 0]   \n",
       "t-07.mp4  [0.42426406871192845, 1.1486868080459196, 1.23...   [2, 0, 2, 0, 0]   \n",
       "b-03.mp4  [0.7407407407407408, 1.1111111111111112, 0.768...   [2, 5, 6, 3, 0]   \n",
       "b-07.mp4  [0.873015873015873, 1.4814814814814816, 0.6371...  [9, 7, 2, 10, 7]   \n",
       "b-13.mp4  [0.700542583323645, 0.8281733249999221, 0.7273...   [4, 0, 7, 2, 4]   \n",
       "t-03.mp4  [0.7001400420140049, 0.8040302522073697, 0.571...   [0, 1, 0, 0, 0]   \n",
       "t-02.mp4  [0.5841439391177646, 0.8676320104922559, 0.884...   [0, 0, 2, 6, 0]   \n",
       "b-12.mp4  [0.4536092116265144, 1.1025309741262972, 0.637...   [5, 1, 4, 0, 2]   \n",
       "b-06.mp4  [0.8628669719059121, 0.9722222222222222, 0.745...   [2, 0, 8, 0, 4]   \n",
       "b-10.mp4  [0.7537783614444089, 0.8045977011494254, 0.572...   [0, 0, 1, 0, 0]   \n",
       "t-14.mp4  [0.6944444444444444, 0.7585068319847657, 0.782...   [0, 0, 0, 0, 0]   \n",
       "t-00.mp4  [0.8333333333333334, 0.7027283689263064, 0.869...   [0, 0, 0, 0, 0]   \n",
       "t-01.mp4  [0.9578262852211513, 1.0895340841010224, 1.089...   [0, 0, 1, 4, 2]   \n",
       "t-15.mp4  [0.8888888888888888, 0.7881104062391007, 1.010...   [0, 1, 0, 0, 0]   \n",
       "b-05.mp4  [0.7889592645714878, 1.1111111111111112, 0.635...   [0, 0, 0, 2, 2]   \n",
       "b-11.mp4  [0.8395662798164727, 0.5461546136793604, 1.077...   [1, 0, 0, 4, 6]   \n",
       "\n",
       "                                              head_movement  \\\n",
       "filename                                                      \n",
       "b-08.mp4  [-1.2751419341699497, -1.8973103806689957, -0....   \n",
       "b-09.mp4  [-0.2860707930511538, -0.2860707930511538, -1....   \n",
       "t-09.mp4  [0.5326861616166986, 0.5326861616166986, 0.447...   \n",
       "t-08.mp4  [-0.8148675349460605, -0.8148675349460605, -0....   \n",
       "b-15.mp4  [0.0, 0.0, 0.0, 0.0, 0.0, 0.0, 0.0, 0.0, 0.0, ...   \n",
       "b-01.mp4  [-1.408794964806644, -1.408794964806644, 1.150...   \n",
       "t-05.mp4  [0.5599150812251459, 0.5665222076132084, -1.99...   \n",
       "t-04.mp4  [0.5525320448637286, 0.4618810757950802, -1.99...   \n",
       "t-10.mp4  [-1.4664127344361433, -1.3771840981929615, 1.5...   \n",
       "b-00.mp4  [-1.7459646715545223, -2.0594027313882046, 0.9...   \n",
       "b-14.mp4  [-1.2782177582709875, -0.7919540275589437, -1....   \n",
       "b-02.mp4  [-0.9991740122586015, -0.9991740122586015, -0....   \n",
       "t-06.mp4  [-0.13665397111314914, -0.13665397111314914, -...   \n",
       "t-12.mp4  [1.2711326588271918, 1.3146841773507512, -0.97...   \n",
       "t-13.mp4  [0.7179613987127681, 0.7179613987127681, -1.04...   \n",
       "t-07.mp4  [-1.224443933287305, -1.224443933287305, -1.22...   \n",
       "b-03.mp4  [1.012231319514475, 1.9643055174391224, 0.1620...   \n",
       "b-07.mp4  [-0.6795510868726463, -0.4445615697852283, -1....   \n",
       "b-13.mp4  [-0.14282727656303174, -0.11912273076819214, -...   \n",
       "t-03.mp4  [0.43156352911500784, 0.548339062111281, -0.92...   \n",
       "t-02.mp4  [1.8747327571937467, 1.3653706696244408, -1.29...   \n",
       "b-12.mp4  [1.1471244095415292, 1.1471244095415292, -0.72...   \n",
       "b-06.mp4  [-1.7242642280110878, -1.9984680062170292, -0....   \n",
       "b-10.mp4  [-0.48002777999280577, -0.7881585110307583, 0....   \n",
       "t-14.mp4  [0.4266244495923563, -0.20198092148841446, -1....   \n",
       "t-00.mp4  [1.3007475425598014, 0.10926316676238616, -1.0...   \n",
       "t-01.mp4  [2.004203912085808, 1.092862533063366, -0.6907...   \n",
       "t-15.mp4  [1.3814456581237442, 1.3787036599162577, 0.877...   \n",
       "b-05.mp4  [-0.32937659264643193, -0.32937659264643193, 1...   \n",
       "b-11.mp4  [-0.7645984022234743, -0.7152423519383067, -1....   \n",
       "\n",
       "                                                      pulse  \\\n",
       "filename                                                      \n",
       "b-08.mp4  [19.1752, 19.1728, 19.814, 19.8668, 19.3068, 1...   \n",
       "b-09.mp4  [98.8368, 99.5108, 97.4772, 96.902, 93.8928, 9...   \n",
       "t-09.mp4  [57.6116, 57.7592, 57.2744, 57.2916, 56.8808, ...   \n",
       "t-08.mp4  [72.908, 72.9028, 72.5716, 72.5696, 72.57, 72....   \n",
       "b-15.mp4  [170.486, 170.4872, 170.608, 170.606, 170.8984...   \n",
       "b-01.mp4  [84.8596, 84.8596, 84.8596, 84.8596, 84.8596, ...   \n",
       "t-05.mp4  [111.8868, 111.8868, 111.8868, 111.8868, 111.4...   \n",
       "t-04.mp4  [99.8308, 99.2296, 97.342, 97.226, 84.9856, 84...   \n",
       "t-10.mp4  [79.566, 79.6396, 77.3744, 77.5776, 77.36, 77....   \n",
       "b-00.mp4  [89.8044, 89.998, 90.3408, 90.02, 90.074, 89.9...   \n",
       "b-14.mp4  [74.7028, 74.98, 77.5244, 77.5772, 79.994, 79....   \n",
       "b-02.mp4  [15.6884, 15.6884, 15.6884, 15.6884, 16.2644, ...   \n",
       "t-06.mp4  [21.5436, 21.5436, 21.5388, 21.5388, 21.504, 2...   \n",
       "t-12.mp4  [200.7544, 200.7544, 200.7544, 200.7544, 200.9...   \n",
       "t-13.mp4  [138.61, 139.4596, 142.7128, 142.7108, 139.702...   \n",
       "t-07.mp4  [84.5256, 84.3308, 85.0532, 85.3928, 85.0704, ...   \n",
       "b-03.mp4  [98.8272, 99.2696, 99.1656, 99.2684, 99.2768, ...   \n",
       "b-07.mp4  [49.2628, 49.2628, 48.3156, 48.3156, 47.678, 4...   \n",
       "b-13.mp4  [47.3804, 47.3888, 47.3928, 47.3928, 47.3456, ...   \n",
       "t-03.mp4  [46.134, 46.148, 45.8412, 45.8684, 45.882, 45....   \n",
       "t-02.mp4  [68.2156, 68.2156, 68.072, 68.072, 68.4, 68.4,...   \n",
       "b-12.mp4  [134.1508, 134.1508, 134.1508, 134.1508, 133.7...   \n",
       "b-06.mp4  [97.226, 97.226, 97.226, 97.226, 97.5416, 97.5...   \n",
       "b-10.mp4  [31.8556, 31.8556, 31.7832, 31.7832, 31.8716, ...   \n",
       "t-14.mp4  [66.4404, 66.4404, 66.07, 65.8488, 65.772, 66....   \n",
       "t-00.mp4  [141.2596, 141.2596, 141.174, 141.1752, 140.54...   \n",
       "t-01.mp4  [35.3552, 35.3552, 35.3552, 35.3552, 35.6344, ...   \n",
       "t-15.mp4  [73.99, 73.99, 73.99, 74.222, 74.3, 74.3, 75.0...   \n",
       "b-05.mp4  [43.8976, 43.8976, 43.1936, 43.1936, 43.2044, ...   \n",
       "b-11.mp4  [110.7616, 110.7924, 110.9468, 110.9468, 111.2...   \n",
       "\n",
       "                                                       psnr  \\\n",
       "filename                                                      \n",
       "b-08.mp4  [0.7573672478334952, -1.2610070849997308, 0.72...   \n",
       "b-09.mp4  [0.6902879105596079, -0.7858917294454759, 1.36...   \n",
       "t-09.mp4  [-0.14668754610983095, -1.158672486023009, 0.3...   \n",
       "t-08.mp4  [1.3230831674506274, -0.9179443804713251, 1.78...   \n",
       "b-15.mp4  [1.0498965894552164, -1.2680845689369016, 0.24...   \n",
       "b-01.mp4  [1.2594844812701942, -1.367828824711328, 0.116...   \n",
       "t-05.mp4  [1.0107683132143965, -1.1261747295561992, 0.96...   \n",
       "t-04.mp4  [0.3204359924534859, -1.4788425221875032, 1.38...   \n",
       "t-10.mp4  [0.28665158635994537, -1.3224705770777507, 0.6...   \n",
       "b-00.mp4  [-0.38566932499027573, -1.3952524925851661, 0....   \n",
       "b-14.mp4  [-1.123918986599613, -1.3939800828880595, 1.24...   \n",
       "b-02.mp4  [0.9774373489111259, 0.13955182009296835, 0.99...   \n",
       "t-06.mp4  [-0.3081716187655303, -0.7824946103919579, 2.4...   \n",
       "t-12.mp4  [-0.054922277677991606, -1.0307747854994898, 1...   \n",
       "t-13.mp4  [0.48842217030706647, -0.934187447491646, 1.99...   \n",
       "t-07.mp4  [0.7651078755752756, -0.3175732675782609, -0.5...   \n",
       "b-03.mp4  [0.7391156429499395, -1.019500894121023, 0.867...   \n",
       "b-07.mp4  [0.5596153027299786, -1.0972061502981307, 1.85...   \n",
       "b-13.mp4  [0.6818241314354496, -1.0610104985361624, 0.37...   \n",
       "t-03.mp4  [0.2235089040328902, -1.0123880635210265, 1.78...   \n",
       "t-02.mp4  [0.3337716790471284, -1.7739139945048301, 1.24...   \n",
       "b-12.mp4  [0.5468643764071204, -1.00264145465385, 0.5808...   \n",
       "b-06.mp4  [1.0625584238221115, -0.8696723851316323, 0.05...   \n",
       "b-10.mp4  [0.816504636387092, -0.8271097798048267, 0.735...   \n",
       "t-14.mp4  [0.456826931636158, -0.6975777528483709, 0.893...   \n",
       "t-00.mp4  [2.026235280974939, -1.298242265861268, 0.6356...   \n",
       "t-01.mp4  [1.2119011394918258, -0.2452564417325659, 0.79...   \n",
       "t-15.mp4  [0.8200243278928125, -1.1455827058870098, 0.80...   \n",
       "b-05.mp4  [1.8144970749871363, -0.5001740404099501, 0.77...   \n",
       "b-11.mp4  [0.7017880210377696, -0.7935833221677464, 0.98...   \n",
       "\n",
       "                                                       ssim  \\\n",
       "filename                                                      \n",
       "b-08.mp4  [0.6708920182845275, -1.3536855272618769, 0.94...   \n",
       "b-09.mp4  [0.9224829297966465, -0.5719733636365226, 1.09...   \n",
       "t-09.mp4  [0.36958386104134977, -1.652903457704924, 0.81...   \n",
       "t-08.mp4  [1.020598634047629, -0.9507252149224188, 1.117...   \n",
       "b-15.mp4  [0.9001384801481376, -1.4031126741124018, 0.73...   \n",
       "b-01.mp4  [0.80756619969941, -1.7976031604738176, 0.6214...   \n",
       "t-05.mp4  [0.9457259316327042, -1.4990528777585042, 0.96...   \n",
       "t-04.mp4  [0.5293111696608028, -1.5817853119801977, 1.03...   \n",
       "t-10.mp4  [0.8453051895177661, -1.507481278252177, 0.937...   \n",
       "b-00.mp4  [0.30350235929736924, -1.8795401744253186, 0.8...   \n",
       "b-14.mp4  [0.06242160121553413, -1.7896980401878793, 0.9...   \n",
       "b-02.mp4  [0.8652022030065507, 0.610033984027437, 0.8913...   \n",
       "t-06.mp4  [0.11149928099450791, -1.2230854759358192, 1.3...   \n",
       "t-12.mp4  [0.4122451216800699, -0.9376834249389634, 1.27...   \n",
       "t-13.mp4  [0.7074859778486557, -1.5761384436169998, 0.91...   \n",
       "t-07.mp4  [0.8128153554045351, 0.2922722265159257, 0.372...   \n",
       "b-03.mp4  [0.850474590982073, -0.9224911492643451, 0.894...   \n",
       "b-07.mp4  [0.858044626334909, -1.3168229974773227, 1.090...   \n",
       "b-13.mp4  [0.8353754627242193, -1.1589993009790216, 0.74...   \n",
       "t-03.mp4  [0.7257095122570908, -1.1242304578884121, 1.06...   \n",
       "t-02.mp4  [0.5080275652011598, -2.6044144804512035, 0.70...   \n",
       "b-12.mp4  [0.8272214618537277, -1.0713586190891602, 0.83...   \n",
       "b-06.mp4  [0.6151806558863544, -0.16963184436401627, 0.3...   \n",
       "b-10.mp4  [1.0136294386558264, -0.8952516439491228, 0.98...   \n",
       "t-14.mp4  [0.7863091263328852, -0.5728023197518536, 0.59...   \n",
       "t-00.mp4  [1.1396015383620877, -1.3536350349772763, 0.87...   \n",
       "t-01.mp4  [0.7247816978750832, 0.38451800592301316, 0.67...   \n",
       "t-15.mp4  [0.9769716012792538, -0.6641132732600387, 0.17...   \n",
       "b-05.mp4  [0.844604503516764, -0.2595979802797669, 0.785...   \n",
       "b-11.mp4  [0.785340900508427, -0.44912828906134966, 0.88...   \n",
       "\n",
       "                     feature_lengths  \n",
       "filename                              \n",
       "b-08.mp4  [45, 5, 5, 50, 50, 45, 45]  \n",
       "b-09.mp4  [45, 5, 5, 50, 50, 45, 45]  \n",
       "t-09.mp4  [45, 5, 5, 50, 50, 45, 45]  \n",
       "t-08.mp4  [45, 5, 5, 50, 50, 45, 45]  \n",
       "b-15.mp4  [45, 5, 5, 50, 50, 45, 45]  \n",
       "b-01.mp4  [45, 5, 5, 50, 50, 45, 45]  \n",
       "t-05.mp4  [45, 5, 5, 50, 50, 45, 45]  \n",
       "t-04.mp4  [45, 5, 5, 50, 50, 45, 45]  \n",
       "t-10.mp4  [45, 5, 5, 50, 50, 45, 45]  \n",
       "b-00.mp4  [45, 5, 5, 50, 50, 45, 45]  \n",
       "b-14.mp4  [45, 5, 5, 50, 50, 45, 45]  \n",
       "b-02.mp4  [45, 5, 5, 50, 50, 45, 45]  \n",
       "t-06.mp4  [45, 5, 5, 50, 50, 45, 45]  \n",
       "t-12.mp4  [45, 5, 5, 50, 50, 45, 45]  \n",
       "t-13.mp4  [45, 5, 5, 50, 50, 45, 45]  \n",
       "t-07.mp4  [45, 5, 5, 50, 50, 45, 45]  \n",
       "b-03.mp4  [45, 5, 5, 50, 50, 45, 45]  \n",
       "b-07.mp4  [45, 5, 5, 50, 50, 45, 45]  \n",
       "b-13.mp4  [45, 5, 5, 50, 50, 45, 45]  \n",
       "t-03.mp4  [45, 5, 5, 50, 50, 45, 45]  \n",
       "t-02.mp4  [45, 5, 5, 50, 50, 45, 45]  \n",
       "b-12.mp4  [45, 5, 5, 50, 50, 45, 45]  \n",
       "b-06.mp4  [45, 5, 5, 50, 50, 45, 45]  \n",
       "b-10.mp4  [45, 5, 5, 50, 50, 45, 45]  \n",
       "t-14.mp4  [45, 5, 5, 50, 50, 45, 45]  \n",
       "t-00.mp4  [45, 5, 5, 50, 50, 45, 45]  \n",
       "t-01.mp4  [45, 5, 5, 50, 50, 45, 45]  \n",
       "t-15.mp4  [45, 5, 5, 50, 50, 45, 45]  \n",
       "b-05.mp4  [45, 5, 5, 50, 50, 45, 45]  \n",
       "b-11.mp4  [45, 5, 5, 50, 50, 45, 45]  "
      ]
     },
     "execution_count": 27,
     "metadata": {},
     "output_type": "execute_result"
    }
   ],
   "source": [
    "df_features"
   ]
  },
  {
   "cell_type": "markdown",
   "metadata": {},
   "source": [
    "# TensorFlow functions"
   ]
  },
  {
   "cell_type": "code",
   "execution_count": 28,
   "metadata": {},
   "outputs": [],
   "source": [
    "def _bytes_feature(value):\n",
    "    \"\"\"Convert a string / byte to a TFRecord bytes feature.\"\"\"\n",
    "    if isinstance(value, type(tf.constant(0))):\n",
    "        value = value.numpy()\n",
    "    return tf.train.Feature(bytes_list=tf.train.BytesList(value=[value]))\n",
    "\n",
    "def _float_feature(value):\n",
    "    \"\"\"Convert float values to a TensorFlow feature.\"\"\"\n",
    "    if isinstance(value, str):\n",
    "        # Convert string representation of list to numpy array\n",
    "        value = np.array(eval(value))\n",
    "    elif not isinstance(value, np.ndarray):\n",
    "        value = np.array([value])\n",
    "    return tf.train.Feature(float_list=tf.train.FloatList(value=value.flatten()))\n",
    "\n",
    "def _int_feature(value):\n",
    "    \"\"\"Convert an integer value to a TensorFlow feature.\"\"\""
   ]
  },
  {
   "cell_type": "code",
   "execution_count": 29,
   "metadata": {},
   "outputs": [],
   "source": [
    "def serialize_features(row, index):\n",
    "    \"\"\"Convert a row of features into a TFRecord format.\"\"\"\n",
    "    feature_dict = {\n",
    "        'filename': _bytes_feature(str(index).encode('utf-8')),\n",
    "        'flicker': _float_feature(row['flicker']),\n",
    "        'lip_movement_variance': _float_feature(row['lip_movement_variance']),\n",
    "        'blink': _float_feature(row['blink']),\n",
    "        'head_movement': _float_feature(row['head_movement']),\n",
    "        'pulse': _float_feature(row['pulse']),\n",
    "        'psnr': _float_feature(row['psnr']),\n",
    "        'ssim': _float_feature(row['ssim']),\n",
    "        'feature_lengths': _float_feature(row['feature_lengths'])\n",
    "    }\n",
    "    \n",
    "    return tf.train.Example(features=tf.train.Features(feature=feature_dict)).SerializeToString()\n",
    "\n",
    "def write_tfrecord(df_features, output_file=\"pdd_features.tfrecord\"):\n",
    "    \"\"\"Write DataFrame features to a TFRecord file.\"\"\"\n",
    "    with tf.io.TFRecordWriter(output_file) as writer:\n",
    "        for idx, row in tqdm(df_features.iterrows(), total=len(df_features), desc=\"Writing TFRecord\"):\n",
    "            example = serialize_features(row, idx)\n",
    "            writer.write(example)\n",
    "    \n",
    "    print(f\"TFRecord saved: {output_file}\")"
   ]
  },
  {
   "cell_type": "code",
   "execution_count": null,
   "metadata": {},
   "outputs": [],
   "source": [
    "def read_tfrecord(tfrecord_path):\n",
    "    \"\"\"Read TFRecord file and convert to DataFrame.\"\"\"\n",
    "    \n",
    "    # Define feature description for parsing\n",
    "    feature_description = {\n",
    "        'filename': tf.io.FixedLenFeature([], tf.string),\n",
    "        'flicker': tf.io.VarLenFeature(tf.float32),\n",
    "        'lip_movement_variance': tf.io.VarLenFeature(tf.float32),\n",
    "        'blink': tf.io.VarLenFeature(tf.float32),\n",
    "        'head_movement': tf.io.VarLenFeature(tf.float32),\n",
    "        'pulse': tf.io.VarLenFeature(tf.float32),\n",
    "        'psnr': tf.io.VarLenFeature(tf.float32),\n",
    "        'ssim': tf.io.VarLenFeature(tf.float32),\n",
    "        'feature_lengths': tf.io.VarLenFeature(tf.float32)\n",
    "    }\n",
    "\n",
    "    def _parse_function(example_proto):\n",
    "        \"\"\"Parse TFRecord example.\"\"\"\n",
    "        parsed_features = tf.io.parse_single_example(example_proto, feature_description)\n",
    "        \n",
    "        # Convert sparse tensors to dense and then to numpy arrays\n",
    "        features = {}\n",
    "        for key in parsed_features:\n",
    "            if key == 'filename':\n",
    "                features[key] = parsed_features[key].numpy().decode('utf-8')\n",
    "            else:\n",
    "                features[key] = tf.sparse.to_dense(parsed_features[key]).numpy()\n",
    "        \n",
    "        return features\n",
    "\n",
    "    # Read TFRecord file\n",
    "    dataset = tf.data.TFRecordDataset(tfrecord_path)\n",
    "    \n",
    "    # Parse all examples\n",
    "    data = []\n",
    "    for raw_record in dataset:\n",
    "        features = _parse_function(raw_record)\n",
    "        data.append(features)\n",
    "    \n",
    "    # Convert to DataFrame\n",
    "    df = pd.DataFrame(data)\n",
    "    df.set_index('filename', inplace=True)\n",
    "    \n",
    "    return df"
   ]
  },
  {
   "cell_type": "code",
   "execution_count": 30,
   "metadata": {},
   "outputs": [
    {
     "name": "stderr",
     "output_type": "stream",
     "text": [
      "Writing TFRecord:   0%|          | 0/30 [00:00<?, ?it/s]"
     ]
    },
    {
     "name": "stderr",
     "output_type": "stream",
     "text": [
      "Writing TFRecord: 100%|██████████| 30/30 [00:00<00:00, 1660.21it/s]"
     ]
    },
    {
     "name": "stdout",
     "output_type": "stream",
     "text": [
      "TFRecord saved: pdd_features.tfrecord\n"
     ]
    },
    {
     "name": "stderr",
     "output_type": "stream",
     "text": [
      "\n"
     ]
    }
   ],
   "source": [
    "write_tfrecord(df_features)"
   ]
  }
 ],
 "metadata": {
  "kernelspec": {
   "display_name": ".venv",
   "language": "python",
   "name": "python3"
  },
  "language_info": {
   "codemirror_mode": {
    "name": "ipython",
    "version": 3
   },
   "file_extension": ".py",
   "mimetype": "text/x-python",
   "name": "python",
   "nbconvert_exporter": "python",
   "pygments_lexer": "ipython3",
   "version": "3.11.5"
  }
 },
 "nbformat": 4,
 "nbformat_minor": 2
}
